{
 "cells": [
  {
   "cell_type": "code",
   "execution_count": 12,
   "metadata": {},
   "outputs": [],
   "source": [
    "%matplotlib inline\n",
    "import numpy as np\n",
    "import pandas as pd\n",
    "import matplotlib.pyplot as plt\n",
    "import time\n",
    "from metrics import *\n",
    "from sklearn.datasets import make_classification\n",
    "from ensemble.bagging import BaggingClassifier\n",
    "from tree.base import WeightedDecisionTree\n",
    "import multiprocessing\n",
    "# Or use sklearn decision tree\n",
    "from sklearn.tree import DecisionTreeClassifier, DecisionTreeRegressor\n",
    "########### BaggingClassifier ###################\n",
    "import seaborn as sns\n",
    "%matplotlib inline"
   ]
  },
  {
   "cell_type": "code",
   "execution_count": 32,
   "metadata": {},
   "outputs": [],
   "source": [
    "def time_plot(timeData,label):\n",
    "    df = pd.DataFrame(data=timeData)\n",
    "    heatmap = pd.pivot_table(df, values='time', index=['sample'], columns='estimators')\n",
    "    print(heatmap)\n",
    "    sns.heatmap(heatmap, cmap=\"flare\",vmin=0,vmax=3.5).set_title(label)\n",
    "    plt.savefig(f'timing_comaprision_{label}.png')\n",
    "    plt.clf()"
   ]
  },
  {
   "cell_type": "code",
   "execution_count": 3,
   "metadata": {},
   "outputs": [],
   "source": [
    "time_plot_single ={\"sample\":[],\"estimators\":[],\"time\":[]}\n",
    "time_plot_parallel = {\"sample\":[],\"estimators\":[],\"time\":[]}"
   ]
  },
  {
   "cell_type": "code",
   "execution_count": 4,
   "metadata": {},
   "outputs": [
    {
     "name": "stdout",
     "output_type": "stream",
     "text": [
      "1000 25\n",
      "1000 50\n",
      "1000 75\n",
      "1000 100\n",
      "2000 25\n",
      "2000 50\n",
      "2000 75\n",
      "2000 100\n",
      "3000 25\n",
      "3000 50\n",
      "3000 75\n",
      "3000 100\n",
      "4000 25\n",
      "4000 50\n",
      "4000 75\n",
      "4000 100\n",
      "5000 25\n",
      "5000 50\n",
      "5000 75\n",
      "5000 100\n",
      "6000 25\n",
      "6000 50\n",
      "6000 75\n",
      "6000 100\n",
      "7000 25\n",
      "7000 50\n",
      "7000 75\n",
      "7000 100\n",
      "8000 25\n",
      "8000 50\n",
      "8000 75\n",
      "8000 100\n",
      "9000 25\n",
      "9000 50\n",
      "9000 75\n",
      "9000 100\n",
      "10000 25\n",
      "10000 50\n",
      "10000 75\n",
      "10000 100\n"
     ]
    }
   ],
   "source": [
    "for sample in range(1000,10001,1000):\n",
    "    for estimators in range(25,101,25):\n",
    "        print(sample,estimators)\n",
    "        X, y = make_classification(n_samples=sample, n_features=2, n_informative=2, n_redundant=0, n_classes=2, random_state=42)\n",
    "        X = pd.DataFrame(X)\n",
    "        y = pd.Series(y,dtype='category')\n",
    "        n_estimators = estimators\n",
    "        tree = DecisionTreeClassifier\n",
    "        Classifier_B = BaggingClassifier(base_estimator=tree, n_estimators=n_estimators)\n",
    "        for i in ['single','parallel']:\n",
    "            if i=='single':\n",
    "                start_time = time.perf_counter()\n",
    "                duration = Classifier_B.fit(X, y, n_jobs=i)\n",
    "                finish_time = time.perf_counter()\n",
    "                time_plot_single[\"sample\"].append(sample)\n",
    "                time_plot_single[\"estimators\"].append(estimators)\n",
    "                time_plot_single[\"time\"].append(finish_time-start_time)\n",
    "                y_hat = Classifier_B.predict(X)\n",
    "                #print(\"Accuracy: \", accuracy(y_hat, y))\n",
    "            else:\n",
    "                start_time = time.perf_counter()\n",
    "                duration = Classifier_B.fit(X, y, n_jobs=i)\n",
    "                finish_time = time.perf_counter()\n",
    "                time_plot_parallel[\"sample\"].append(sample)\n",
    "                time_plot_parallel[\"time\"].append(finish_time-start_time)\n",
    "                time_plot_parallel[\"estimators\"].append(estimators)\n",
    "                y_hat = Classifier_B.predict(X)\n",
    "                #print(\"Accuracy: \", accuracy(y_hat, y))"
   ]
  },
  {
   "cell_type": "code",
   "execution_count": 33,
   "metadata": {},
   "outputs": [
    {
     "name": "stdout",
     "output_type": "stream",
     "text": [
      "estimators       25        50        75        100\n",
      "sample                                            \n",
      "1000        0.275211  0.905736  0.655440  0.696580\n",
      "2000        0.211136  0.497851  0.757279  1.439289\n",
      "3000        0.494159  0.598375  1.476154  1.675020\n",
      "4000        0.515755  0.659772  1.067336  1.370335\n",
      "5000        0.429337  0.754182  1.066853  1.333724\n",
      "6000        0.487374  0.978400  1.677496  2.257897\n",
      "7000        0.652849  0.868277  1.233490  1.555273\n",
      "8000        0.520621  1.037377  1.549167  2.029958\n",
      "9000        0.689364  1.338052  1.760678  2.287055\n",
      "10000       0.715258  1.398376  2.122683  3.147686\n",
      "estimators       25        50        75        100\n",
      "sample                                            \n",
      "1000        0.458783  0.982128  0.463101  0.621967\n",
      "2000        0.170430  0.432043  0.797911  1.076794\n",
      "3000        0.274827  0.822141  0.645987  1.498044\n",
      "4000        0.229397  0.416870  0.561651  1.312053\n",
      "5000        0.228159  0.367019  0.654002  0.828925\n",
      "6000        0.265900  0.500342  0.850410  1.005377\n",
      "7000        0.305123  0.448113  0.616619  0.793087\n",
      "8000        0.274686  0.511482  0.743937  0.995448\n",
      "9000        0.290108  0.697504  0.809122  1.148925\n",
      "10000       0.327725  0.653984  1.003177  1.285545\n"
     ]
    },
    {
     "data": {
      "text/plain": [
       "<Figure size 640x480 with 0 Axes>"
      ]
     },
     "metadata": {},
     "output_type": "display_data"
    }
   ],
   "source": [
    "\n",
    "time_plot(time_plot_single,label='single')    \n",
    "time_plot(time_plot_parallel,label='parallel')"
   ]
  },
  {
   "cell_type": "code",
   "execution_count": null,
   "metadata": {},
   "outputs": [],
   "source": []
  }
 ],
 "metadata": {
  "kernelspec": {
   "display_name": "Python 3",
   "language": "python",
   "name": "python3"
  },
  "language_info": {
   "codemirror_mode": {
    "name": "ipython",
    "version": 3
   },
   "file_extension": ".py",
   "mimetype": "text/x-python",
   "name": "python",
   "nbconvert_exporter": "python",
   "pygments_lexer": "ipython3",
   "version": "3.10.10"
  },
  "orig_nbformat": 4,
  "vscode": {
   "interpreter": {
    "hash": "58dbfdb34cf82127b32c5737e6183911655ff227e5c11e8f5e4b25048ae98ef2"
   }
  }
 },
 "nbformat": 4,
 "nbformat_minor": 2
}
