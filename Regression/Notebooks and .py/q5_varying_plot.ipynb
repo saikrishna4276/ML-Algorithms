{
 "cells": [
  {
   "cell_type": "code",
   "execution_count": 5,
   "metadata": {},
   "outputs": [],
   "source": [
    "\n",
    "import sys\n",
    "sys.path.append('/home/saikrishna/Documents/ML_Assignment4/assignment-4-sujeet-saikrishna/')\n",
    "import numpy as np\n",
    "import pandas as pd\n",
    "import matplotlib.pyplot as plt\n",
    "from linearRegression.linear_regression import LinearRegression\n",
    "from sklearn.datasets import make_regression\n",
    "from metrics import *\n",
    "from preprocessing.polynomial_features import PolynomialFeatures\n",
    "from sklearn.preprocessing import StandardScaler\n",
    "import time\n",
    "import os\n",
    "from os import path\n",
    "import seaborn as sns\n",
    "\n",
    "np.random.seed(45)"
   ]
  },
  {
   "cell_type": "code",
   "execution_count": 8,
   "metadata": {},
   "outputs": [],
   "source": [
    "def time_plot(timeData):\n",
    "    df = pd.DataFrame(data=timeData)\n",
    "    heatmap = pd.pivot_table(df, values='norm', index=['n_samples'], columns='degree')\n",
    "    sns.heatmap(heatmap, cmap=\"flare\")\n",
    "\n",
    "    plt.savefig('./Plots/Question5/varying.png')\n",
    "    plt.clf()\n"
   ]
  },
  {
   "cell_type": "code",
   "execution_count": 11,
   "metadata": {},
   "outputs": [
    {
     "name": "stdout",
     "output_type": "stream",
     "text": [
      "n_samples:  1000  degree:  1\n",
      "n_samples:  1000  degree:  3\n",
      "n_samples:  1000  degree:  5\n",
      "n_samples:  1000  degree:  7\n",
      "n_samples:  1000  degree:  9\n",
      "n_samples:  2000  degree:  1\n",
      "n_samples:  2000  degree:  3\n",
      "n_samples:  2000  degree:  5\n",
      "n_samples:  2000  degree:  7\n",
      "n_samples:  2000  degree:  9\n",
      "n_samples:  3000  degree:  1\n",
      "n_samples:  3000  degree:  3\n",
      "n_samples:  3000  degree:  5\n",
      "n_samples:  3000  degree:  7\n",
      "n_samples:  3000  degree:  9\n",
      "n_samples:  4000  degree:  1\n",
      "n_samples:  4000  degree:  3\n",
      "n_samples:  4000  degree:  5\n",
      "n_samples:  4000  degree:  7\n",
      "n_samples:  4000  degree:  9\n",
      "n_samples:  5000  degree:  1\n",
      "n_samples:  5000  degree:  3\n",
      "n_samples:  5000  degree:  5\n",
      "n_samples:  5000  degree:  7\n",
      "n_samples:  5000  degree:  9\n"
     ]
    }
   ],
   "source": [
    "norm_theta = {'n_samples':[], 'degree':[], 'norm':[]}\n",
    "for n_samples in range(1000,5500,1000):\n",
    "    #X, y = make_regression(n_samples=100, n_features=2, noise=20, random_state=45)\n",
    "    X = np.array([i*np.pi/180 for i in range(60+n_samples,300+n_samples,2)])\n",
    "    y = 3*X + 8 + np.random.normal(0,3,len(X))\n",
    "    X=X.reshape(-1,1)\n",
    "    # X = np.random.rand(n_samples, 1)\n",
    "    # y = X.squeeze()**2 + 0.1*np.random.randn(n_samples)\n",
    "    norm = []\n",
    "    for degree in [1,3,5,7,9]:\n",
    "        print('n_samples: ',n_samples,' degree: ',degree)\n",
    "        poly = PolynomialFeatures(degree=degree,include_bias=True)\n",
    "        X_train = np.array([])\n",
    "        for i in range(len(X)):\n",
    "            if X_train.shape[0] != 0:\n",
    "                X_train = np.vstack((X_train,poly.transform(X[i])))\n",
    "            else:\n",
    "                X_train = poly.transform(X[i])\n",
    "        X_train = StandardScaler().fit_transform(X_train)\n",
    "        LR = LinearRegression(fit_intercept=True)\n",
    "        theta = LR.fit_sklearn_LR(X_train,y)\n",
    "        norm_theta['n_samples'].append(n_samples)\n",
    "        norm_theta['degree'].append(degree)\n",
    "        norm_theta['norm'].append(np.linalg.norm(theta))\n",
    "for i in range(len(norm_theta['norm'])):\n",
    "    norm_theta['norm'][i] = (norm_theta['norm'][i]-min(norm_theta['norm']))/(max(norm_theta['norm'])-min(norm_theta['norm']))"
   ]
  },
  {
   "cell_type": "code",
   "execution_count": 12,
   "metadata": {},
   "outputs": [
    {
     "data": {
      "text/plain": [
       "<Figure size 640x480 with 0 Axes>"
      ]
     },
     "metadata": {},
     "output_type": "display_data"
    }
   ],
   "source": [
    "\n",
    "if not path.exists('Plots/Question5/'):\n",
    "    os.makedirs('Plots/Question5/')\n",
    "time_plot(norm_theta)"
   ]
  },
  {
   "cell_type": "code",
   "execution_count": 14,
   "metadata": {},
   "outputs": [
    {
     "name": "stdout",
     "output_type": "stream",
     "text": [
      "[[-1. -1. -1.]\n",
      " [ 1.  1.  1.]]\n"
     ]
    },
    {
     "data": {
      "text/plain": [
       "array([[-1.22474487,  0.        ,  1.22474487]])"
      ]
     },
     "execution_count": 14,
     "metadata": {},
     "output_type": "execute_result"
    }
   ],
   "source": [
    "x=[[1,2,3],[4,5,6]]\n",
    "x=np.array(x)\n",
    "y=[[1,2,3]]\n",
    "y=np.array(y)\n",
    "x=StandardScaler().fit_transform(x)\n",
    "print(x)\n",
    "y=(y-np.mean(y))/np.sqrt(np.var(y))\n",
    "y"
   ]
  },
  {
   "cell_type": "code",
   "execution_count": null,
   "metadata": {},
   "outputs": [],
   "source": []
  }
 ],
 "metadata": {
  "kernelspec": {
   "display_name": "Python 3",
   "language": "python",
   "name": "python3"
  },
  "language_info": {
   "codemirror_mode": {
    "name": "ipython",
    "version": 3
   },
   "file_extension": ".py",
   "mimetype": "text/x-python",
   "name": "python",
   "nbconvert_exporter": "python",
   "pygments_lexer": "ipython3",
   "version": "3.10.6"
  },
  "orig_nbformat": 4,
  "vscode": {
   "interpreter": {
    "hash": "916dbcbb3f70747c44a77c7bcd40155683ae19c65e1c03b4aa3499c5328201f1"
   }
  }
 },
 "nbformat": 4,
 "nbformat_minor": 2
}
