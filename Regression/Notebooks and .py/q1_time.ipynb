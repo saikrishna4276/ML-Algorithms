{
 "cells": [
  {
   "cell_type": "code",
   "execution_count": 1,
   "metadata": {},
   "outputs": [],
   "source": [
    "import numpy as np\n",
    "import pandas as pd\n",
    "import matplotlib.pyplot as plt\n",
    "from linearRegression.linear_regression import LinearRegression\n",
    "from sklearn.datasets import make_regression\n",
    "from metrics import *\n",
    "import time\n",
    "import os\n",
    "from os import path\n",
    "import seaborn as sns\n",
    "np.random.seed(45)"
   ]
  },
  {
   "cell_type": "code",
   "execution_count": 2,
   "metadata": {},
   "outputs": [
    {
     "name": "stdout",
     "output_type": "stream",
     "text": [
      "N X P: 1000 10\n",
      "N X P: 1000 15\n",
      "N X P: 1000 20\n",
      "N X P: 1000 25\n",
      "N X P: 1000 30\n",
      "N X P: 5000 10\n",
      "N X P: 5000 15\n",
      "N X P: 5000 20\n",
      "N X P: 5000 25\n",
      "N X P: 5000 30\n",
      "N X P: 10000 10\n",
      "N X P: 10000 15\n",
      "N X P: 10000 20\n",
      "N X P: 10000 25\n",
      "N X P: 10000 30\n",
      "N X P: 50000 10\n",
      "N X P: 50000 15\n",
      "N X P: 50000 20\n",
      "N X P: 50000 25\n",
      "N X P: 50000 30\n",
      "N X P: 100000 10\n",
      "N X P: 100000 15\n",
      "N X P: 100000 20\n",
      "N X P: 100000 25\n",
      "N X P: 100000 30\n"
     ]
    }
   ],
   "source": [
    "sk_time = {'N':[], 'P':[], 'time':[]}\n",
    "normal_time = {'N':[], 'P':[], 'time':[]}\n",
    "svd_time = {'N':[], 'P':[], 'time':[]}\n",
    "for N in [1000, 5000, 10000, 50000, 100000]:\n",
    "    for P in [10, 15, 20, 25, 30]:\n",
    "        print(\"N X P:\", N, P )\n",
    "        X, y = make_regression(n_samples=N, n_features=P, n_informative=10, n_targets=1, noise=0.1, random_state=45)\n",
    "        X=pd.DataFrame(X)\n",
    "        y=pd.Series(y)\n",
    "        LR = LinearRegression(fit_intercept=True)\n",
    "        time1 = time.time()\n",
    "        for i in range(100):\n",
    "            LR.fit_sklearn_LR(X,y)\n",
    "        time2 = time.time()\n",
    "        LR.predict(X)\n",
    "        sk_time['N'].append(N)\n",
    "        sk_time['P'].append(P)\n",
    "        sk_time['time'].append((time2-time1)/100)\n",
    "        #print(\"Time taken by sklearn: \", (time2-time1)/100)\n",
    "\n",
    "        LR = LinearRegression(fit_intercept=True)\n",
    "        time1 = time.time()\n",
    "        for i in range(100):\n",
    "            LR.fit_normal_equations(X,y)\n",
    "        time2 = time.time()\n",
    "        LR.predict(X)\n",
    "        #print(\"Time taken by normal equations: \", (time2-time1)/100)\n",
    "        normal_time['N'].append(N)\n",
    "        normal_time['P'].append(P)\n",
    "        normal_time['time'].append((time2-time1)/100)\n",
    "\n",
    "        LR = LinearRegression(fit_intercept=True)\n",
    "        time1 = time.time()\n",
    "        for i in range(100):\n",
    "            LR.fit_SVD(X,y)\n",
    "        time2 = time.time()\n",
    "        LR.predict(X)\n",
    "        svd_time['N'].append(N)\n",
    "        svd_time['P'].append(P)\n",
    "        svd_time['time'].append((time2-time1)/100)\n",
    "        #print(\"Time taken by SVD: \", (time2-time1)/100)\n",
    "\n"
   ]
  },
  {
   "cell_type": "code",
   "execution_count": 9,
   "metadata": {},
   "outputs": [],
   "source": [
    "def time_plot(timeData,case):\n",
    "    df = pd.DataFrame(data=timeData)\n",
    "    heatmap = pd.pivot_table(df, values='time', index=['N'], columns='P')\n",
    "    sns.heatmap(heatmap, cmap=\"flare\")\n",
    "\n",
    "    if case == 'sklearn':\n",
    "        plt.title('Time taken by sklearn')\n",
    "        plt.savefig('./Plots/Question1/sklearn.png')\n",
    "    elif case == 'normal':\n",
    "        plt.title('Time taken by normal equations')\n",
    "        plt.savefig('./Plots/Question1/normal.png')\n",
    "    elif case == 'svd':\n",
    "        plt.title('Time taken by SVD')\n",
    "        plt.savefig('./Plots/Question1/svd.png')\n",
    "    plt.clf()\n"
   ]
  },
  {
   "cell_type": "code",
   "execution_count": 10,
   "metadata": {},
   "outputs": [
    {
     "data": {
      "text/plain": [
       "<Figure size 640x480 with 0 Axes>"
      ]
     },
     "metadata": {},
     "output_type": "display_data"
    }
   ],
   "source": [
    "\n",
    "if not path.exists('Plots/Question1/'):\n",
    "    os.makedirs('Plots/Question1/')\n",
    "time_plot(sk_time, 'sklearn')\n",
    "time_plot(normal_time, 'normal')\n",
    "time_plot(svd_time, 'svd')\n"
   ]
  },
  {
   "cell_type": "code",
   "execution_count": null,
   "metadata": {},
   "outputs": [],
   "source": []
  }
 ],
 "metadata": {
  "kernelspec": {
   "display_name": "Python 3",
   "language": "python",
   "name": "python3"
  },
  "language_info": {
   "codemirror_mode": {
    "name": "ipython",
    "version": 3
   },
   "file_extension": ".py",
   "mimetype": "text/x-python",
   "name": "python",
   "nbconvert_exporter": "python",
   "pygments_lexer": "ipython3",
   "version": "3.10.6"
  },
  "orig_nbformat": 4,
  "vscode": {
   "interpreter": {
    "hash": "916dbcbb3f70747c44a77c7bcd40155683ae19c65e1c03b4aa3499c5328201f1"
   }
  }
 },
 "nbformat": 4,
 "nbformat_minor": 2
}
